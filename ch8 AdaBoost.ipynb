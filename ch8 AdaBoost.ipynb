{
 "cells": [
  {
   "cell_type": "code",
   "execution_count": 1,
   "metadata": {},
   "outputs": [],
   "source": [
    "import numpy as np"
   ]
  },
  {
   "cell_type": "code",
   "execution_count": 2,
   "metadata": {},
   "outputs": [],
   "source": [
    "class SingleDecisionTree:\n",
    "    def __init__(self, axis=0, threshold = 0):\n",
    "        self.axis = axis\n",
    "        self.threshold = threshold\n",
    "\n",
    "    def preditct(self, x):\n",
    "        return 1 if x[self.axis] >= self.threshold else -1\n",
    "\n",
    "    def preditctArr(self, dataSet):\n",
    "        result = []\n",
    "        for x in dataSet:\n",
    "            result.append(1 if x[self.axis] >= self.threshold else -1)\n",
    "        return result\n",
    "\n",
    "class AdaBoost:\n",
    "    \n",
    "    def __init__(self, epsilon=0.01):\n",
    "        self.epsilon = epsilon\n",
    "        \n",
    "    def fit(self, dataSet, labels):\n",
    "        N = np.array(dataSet).shape[0]    #样本总数\n",
    "        M = np.array(dataSet).shape[1] #样本维度\n",
    "        self.funList = [] # 存储alpha和决策树桩\n",
    "        D = np.ones((N, 1)) / float(N) #(1)数据权值分布\n",
    "        #得到基本分类器 开始\n",
    "        L = 0.5\n",
    "        minError = np.inf    #初始化误差大小为最大值（因为要找最小值）\n",
    "        minTree = None  #误差最小的分类器\n",
    "        while minError > self.epsilon:\n",
    "            for axis in range(M):\n",
    "                min = np.min(np.array(dataSet)[:, axis]) #需要确定阈值的最小值\n",
    "                max = np.max(np.array(dataSet)[:, axis]) #需要确定阈值的最大值\n",
    "                for threshold in np.arange(min, max, L):    #左开右闭\n",
    "                    tree = SingleDecisionTree(axis=axis, threshold = threshold)  #决策树桩\n",
    "                    em = self.__calc_em(D, tree, dataSet, labels)  #误差率\n",
    "                    if (minError > em): #选出最小的误差，以及对应的分类器\n",
    "                        minError = em\n",
    "                        minTree = tree\n",
    "                    \n",
    "            alpha = (0.5) * np.log((1 - minError) / float(minError))    #分类器权重系数\n",
    "            self.funList.append((alpha, minTree))   #把alpha和分类器写到列表\n",
    "            exp_items = np.exp(np.multiply(-alpha * np.array(labels), np.array(minTree.preditctArr(dataSet)))).reshape(-1, 1)\n",
    "            zm = np.dot(D.T, exp_items)\n",
    "            D = np.multiply(D, exp_items) / zm\n",
    "            \n",
    "    \n",
    "    def score(self, X_test, y_test):\n",
    "        score = 0\n",
    "        for X, y in zip(X_test, y_test):\n",
    "            if self.predict(X) == y:\n",
    "                score += 1\n",
    "        print('right rate: %.3f' % (score / len(y_test)))\n",
    "\n",
    "    def predict(self, x):   #预测方法\n",
    "        sum = 0\n",
    "        for fun in self.funList:    #书上最终分类器的代码\n",
    "            alpha = fun[0]\n",
    "            tree = fun[1]\n",
    "            sum += alpha * tree.preditct(x)\n",
    "        return 1 if sum > 0 else -1\n",
    "\n",
    "    def __calc_em(self, D, Gm, dataSet, labels):    #计算误差\n",
    "        value = [0 if Gm.preditct(row) == labels[i] else 1 for (i, row) in enumerate(dataSet)]\n",
    "        return np.dot(D.T, np.array(value).reshape(-1, 1))\n"
   ]
  },
  {
   "cell_type": "code",
   "execution_count": 3,
   "metadata": {
    "scrolled": true
   },
   "outputs": [
    {
     "name": "stdout",
     "output_type": "stream",
     "text": [
      "right rate: 1.000\n"
     ]
    }
   ],
   "source": [
    "from sklearn.datasets import load_digits\n",
    "from sklearn.model_selection import  train_test_split\n",
    "\n",
    "data = load_digits(n_class=2)\n",
    "X_data = data['data']\n",
    "y_data = data['target']\n",
    "inds = np.where(y_data == 0)[0]\n",
    "y_data[inds] = -1\n",
    "\n",
    "X_train, X_test, y_train, y_test = train_test_split(X_data, y_data, test_size=0.3, random_state=42)\n",
    "\n",
    "adaboost = AdaBoost()\n",
    "adaboost.fit(X_train, y_train)\n",
    "adaboost.score(X_test, y_test)"
   ]
  },
  {
   "cell_type": "code",
   "execution_count": null,
   "metadata": {},
   "outputs": [],
   "source": []
  }
 ],
 "metadata": {
  "kernelspec": {
   "display_name": "Python 3",
   "language": "python",
   "name": "python3"
  },
  "language_info": {
   "codemirror_mode": {
    "name": "ipython",
    "version": 3
   },
   "file_extension": ".py",
   "mimetype": "text/x-python",
   "name": "python",
   "nbconvert_exporter": "python",
   "pygments_lexer": "ipython3",
   "version": "3.7.1"
  }
 },
 "nbformat": 4,
 "nbformat_minor": 2
}
