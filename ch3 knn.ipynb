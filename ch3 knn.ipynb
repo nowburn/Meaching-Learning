{
 "cells": [
  {
   "cell_type": "code",
   "execution_count": 1,
   "metadata": {},
   "outputs": [],
   "source": [
    "import numpy as np\n",
    "import matplotlib.pyplot as plt\n",
    "from numpy.linalg import norm\n",
    "from collections import Counter"
   ]
  },
  {
   "cell_type": "markdown",
   "metadata": {},
   "source": [
    "## 一、KD-Tree\n",
    "### 实现KD树的建立，结合大顶堆，实现了K近邻"
   ]
  },
  {
   "cell_type": "code",
   "execution_count": 2,
   "metadata": {},
   "outputs": [],
   "source": [
    "class Node:\n",
    "    def __init__(self, data, label, parent, dim):\n",
    "        self.data = data\n",
    "        self.label = label\n",
    "        self.parent = parent\n",
    "        self.lChild = None\n",
    "        self.rChild = None\n",
    "        self.dim = dim\n",
    "        self.traced = False\n",
    "\n",
    "    def setLChild(self, lChild):\n",
    "        self.lChild = lChild\n",
    "\n",
    "    def setRChild(self, rChild):\n",
    "        self.rChild = rChild"
   ]
  },
  {
   "cell_type": "code",
   "execution_count": 3,
   "metadata": {},
   "outputs": [],
   "source": [
    "class maxHeap(object):\n",
    "    def __init__(self):\n",
    "        self.heap = []\n",
    "        \n",
    "    def push(self, new_item, key=lambda x: x[1]):\n",
    "        self.heap.append(new_item)\n",
    "        pos = len(self.heap) - 1\n",
    "        while pos > 0:\n",
    "            parent_pos = pos - 1 >> 1\n",
    "            if key(new_item) <= key(self.heap[parent_pos]):\n",
    "                break\n",
    "            self.heap[pos] = self.heap[parent_pos]\n",
    "            pos = parent_pos\n",
    "        self.heap[pos] = new_item\n",
    "        \n",
    "    def replace(self, new_item, key=lambda x: x[1]):\n",
    "        self.heap[0] = new_item\n",
    "        root, child = 0, 1\n",
    "        end = len(self.heap) - 1\n",
    "        while child <= end:\n",
    "            if child < end and key(self.heap[child]) < key(self.heap[child+1]):\n",
    "                child += 1\n",
    "            if key(self.heap[child]) <= key(new_item):\n",
    "                break\n",
    "            self.heap[root] = self.heap[child]\n",
    "            root, child = child, 2 * child + 1\n",
    "        self.heap[root] = new_item\n",
    "        \n",
    "    def size(self):\n",
    "        return len(self.heap)\n",
    "    \n",
    "    def getMaxData(self):\n",
    "        return self.heap[0][1]\n",
    "    \n",
    "    def getHeap(self):\n",
    "        return self.heap"
   ]
  },
  {
   "cell_type": "code",
   "execution_count": 4,
   "metadata": {},
   "outputs": [],
   "source": [
    "class KdTree:\n",
    "    def __init__(self, X, y):\n",
    "        self.root = self.__build(X, y, 1, None)\n",
    "        self.maxHeap = maxHeap()\n",
    "\n",
    "    def __build(self, X, y, depth, parent):  # 递归建树\n",
    "        (m, k) = X.shape\n",
    "        if m == 0:\n",
    "            return None\n",
    "\n",
    "        X = X[X[:, depth % k].argsort()]\n",
    "\n",
    "        root = Node(X[m//2], y[m//2], parent, depth % k)\n",
    "        root.setLChild(self.__build(X[:m//2, :], y[:m//2], depth+1, root))\n",
    "        root.setRChild(self.__build(X[m//2+1:, :], y[m//2+1:], depth+1, root))\n",
    "        return root\n",
    "\n",
    "    def findNearestKPointAndDistance(self, point, k):  # 查找与point距离最近的k个点\n",
    "        point = np.array(point)\n",
    "        node = self.__findSmallestSubSpace(point, self.root)\n",
    "        node.traced = True\n",
    "        self.__updateHeap(k, [node.data, node.label], norm(point - node.data))\n",
    "#         print(\"Start node:\", node.data)\n",
    "        self.maxHeap = self.__searchUp(point, k, node)\n",
    "        return  self.maxHeap.getHeap()\n",
    "        \n",
    "    \n",
    "    def __searchUp(self, point, k, node):\n",
    "        if node.parent is None:\n",
    "            return self.maxHeap\n",
    "\n",
    "#         print(\"UP:\", node.parent.data)\n",
    "        node.parent.traced = True\n",
    "        distance = np.linalg.norm(node.parent.data - point) #计算待求节点与其所在子空间的父节点距离\n",
    "        self.__updateHeap(k, [node.parent.data,node.parent.label], distance)\n",
    "\n",
    "        #以待求节点为圆心，当前最近距离为半径的圆，计算是否与其所在子空间父节点的另一个子空间相交\n",
    "        distance = np.abs(node.parent.data[node.parent.dim] - point[node.parent.dim])\n",
    "        if self.maxHeap.size() < k or distance < self.maxHeap.getMaxData():\n",
    "             self.__searchDown(point, k, node.parent)\n",
    "\n",
    "        self.__searchUp(point, k, node.parent)\n",
    "        return self.maxHeap\n",
    "\n",
    "    def __searchDown(self, point, k, node):\n",
    "        node.traced = True\n",
    "        \n",
    "        if node.lChild is not None and node.lChild.traced is False:\n",
    "#             print(\"DOWN:\", node.lChild.data)\n",
    "            node_data = node.lChild.data\n",
    "            self.__updateHeap(k, [node_data, node.lChild.label], norm(point - node_data))\n",
    "            self.__searchDown(point, k, node.lChild)\n",
    "            \n",
    "        if node.rChild is not None and node.rChild.traced is False:\n",
    "#             print(\"DOWN:\", node.rChild.data)\n",
    "            node_data = node.rChild.data\n",
    "            self.__updateHeap(k, [node_data, node.rChild.label], norm(point - node_data))\n",
    "            self.__searchDown(point, k, node.rChild)\n",
    "           \n",
    "        return\n",
    "    \n",
    "    \n",
    "    def __updateHeap(self, k, item, d):\n",
    "        if self.maxHeap.size() < k:\n",
    "            self.maxHeap.push((item, d))\n",
    "        elif d < self.maxHeap.getMaxData():\n",
    "            self.maxHeap.replace((item, d))\n",
    "        \n",
    "    def __findSmallestSubSpace(self, point, node):  # 找到这个点所在的最小的子空间\n",
    "        \"\"\"\n",
    "        从根节点出发，递归地向下访问kd树。如果point当前维的坐标小于切分点的坐标，则\n",
    "        移动到左子节点，否则移动到右子节点。直到子节点为叶节点为止。\n",
    "        \"\"\"\n",
    "        if point[node.dim] < node.data[node.dim]:\n",
    "            if node.lChild is None:\n",
    "                return node\n",
    "            else:\n",
    "                return self.__findSmallestSubSpace(point, node.lChild)\n",
    "        else:\n",
    "            if node.rChild is None:\n",
    "                return node\n",
    "            else:\n",
    "                return self.__findSmallestSubSpace(point, node.rChild)"
   ]
  },
  {
   "cell_type": "code",
   "execution_count": 5,
   "metadata": {},
   "outputs": [
    {
     "name": "stdout",
     "output_type": "stream",
     "text": [
      "target : [6 4]\n",
      "([array([3, 2]), array([1])], 3.605551275463989)\n",
      "([array([8, 3]), array([1])], 2.23606797749979)\n",
      "([array([6, 6]), array([0])], 2.0)\n",
      "---------------------\n",
      "[2 5] 4.123105625617661\n",
      "[3 2] 3.605551275463989\n",
      "[3 7] 4.242640687119285\n",
      "[8 3] 2.23606797749979\n",
      "[6 6] 2.0\n",
      "[1 1] 5.830951894845301\n",
      "[1 8] 6.4031242374328485\n"
     ]
    }
   ],
   "source": [
    "X = np.array([[2, 5], [3, 2], [3, 7], [8, 3], [6, 6], [1, 1], [1, 8]])\n",
    "y = np.array([[1],[1],[1],[1],[1],[0],[0]])\n",
    "kdTree = KdTree(X, y)\n",
    "target = np.array([6, 4])\n",
    "print('target :', target)\n",
    "heap = kdTree.findNearestKPointAndDistance(target,3)\n",
    "for i in heap:\n",
    "    print(i)\n",
    "print('---------------------')\n",
    "\n",
    "(m, k) = X.shape\n",
    "for i in range(m):\n",
    "    print(X[i], np.linalg.norm(X[i]-target))\n"
   ]
  },
  {
   "cell_type": "markdown",
   "metadata": {},
   "source": [
    "## 二、KNN"
   ]
  },
  {
   "cell_type": "code",
   "execution_count": 6,
   "metadata": {},
   "outputs": [],
   "source": [
    "class KNeighborsClassifier(object):\n",
    "    def __init__(self,k):\n",
    "        self.k = k\n",
    "        self.kd_tree = None\n",
    "        \n",
    "    def fit(self, X, y):\n",
    "        self.kd_tree = KdTree(X, y)\n",
    "        \n",
    "    def predict(self, X):\n",
    "        y_res = []\n",
    "        for x in X:\n",
    "            y = Counter([h[0][1] for h in self.kd_tree.findNearestKPointAndDistance(x, self.k)]).most_common(1)[0][0]\n",
    "            y_res.append(y)\n",
    "        return np.array(y_res)"
   ]
  },
  {
   "cell_type": "code",
   "execution_count": 7,
   "metadata": {},
   "outputs": [
    {
     "data": {
      "image/png": "[encoded data removed]",
      "text/plain": [
       "<Figure size 1080x432 with 2 Axes>"
      ]
     },
     "metadata": {
      "needs_background": "light"
     },
     "output_type": "display_data"
    }
   ],
   "source": [
    "X = np.array([[1,1],[2,2],[3,3],[2,3],[3,2],[8,1],[8,2],[9,3],[10,3],[9,4]])\n",
    "y = np.array([0,0,0,0,0,1,1,1,1,1])\n",
    "\n",
    "X_Test = np.array([[7,2],[2,2.5]])\n",
    "\n",
    "plt.figure(figsize=(15,6))\n",
    "plt.subplot(1,2,1)\n",
    "plt.scatter(X[:,0], X[:,1],s=30,c=y)\n",
    "# test points\n",
    "plt.scatter(X_Test[:,0], X_Test[:,1],s=30,c='r',marker='x')\n",
    "\n",
    "knn = KNeighborsClassifier(k=3)\n",
    "knn.fit(X,y)\n",
    "y_predict = knn.predict(X_Test)\n",
    "\n",
    "plt.subplot(1,2,2)\n",
    "plt.scatter(X[:,0], X[:,1],s=30,c=y)\n",
    "plt.scatter(X_Test[:,0], X_Test[:,1],s=30,c=y_predict,marker='x')\n",
    "\n",
    "plt.show()"
   ]
  },
  {
   "cell_type": "code",
   "execution_count": null,
   "metadata": {},
   "outputs": [],
   "source": []
  }
 ],
 "metadata": {
  "kernelspec": {
   "display_name": "Python 3",
   "language": "python",
   "name": "python3"
  },
  "language_info": {
   "codemirror_mode": {
    "name": "ipython",
    "version": 3
   },
   "file_extension": ".py",
   "mimetype": "text/x-python",
   "name": "python",
   "nbconvert_exporter": "python",
   "pygments_lexer": "ipython3",
   "version": "3.7.1"
  }
 },
 "nbformat": 4,
 "nbformat_minor": 2
}
