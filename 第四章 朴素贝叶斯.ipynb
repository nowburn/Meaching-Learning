{
 "cells": [
  {
   "cell_type": "code",
   "execution_count": 1,
   "metadata": {},
   "outputs": [],
   "source": [
    "import numpy as np\n",
    "from collections import Counter"
   ]
  },
  {
   "cell_type": "code",
   "execution_count": 2,
   "metadata": {},
   "outputs": [],
   "source": [
    "class NaiveBayes(object):\n",
    "    \n",
    "    def __init__(self, alpha=1):                                #alpha：拉普拉斯平滑 常数\n",
    "        self.alpha = alpha\n",
    "        self.word_list = []\n",
    "        self.p_yk = {}                                            #先验概率\n",
    "        self.p_xy = {}                                            #后验概率 k:类别，v:该类别词频\n",
    "        \n",
    "        \n",
    "    def fit(self, data, label):\n",
    "        word_set = set([])\n",
    "        for document in data:\n",
    "            word_set = word_set | set(document)\n",
    "        self.word_list = list(word_set)                             #准备词库\n",
    "        \n",
    "        data_matrix = []\n",
    "        wordList_len = len(self.word_list)\n",
    "        for doc in data:\n",
    "            data_matrix.append(self.__word2Vec(doc,wordList_len))  #准备词库矩阵\n",
    "        #计算先验概率，初始化后验概率分子中拉普拉斯项\n",
    "        obj = Counter(label)\n",
    "        label_len = len(label)\n",
    "        for k, v in obj.items():\n",
    "            self.p_yk[k] = (v + self.alpha) / label_len + len(obj) * self.alpha\n",
    "            self.p_xy[k] = np.zeros(wordList_len) + self.alpha\n",
    "        #计算后验概率         \n",
    "        for i,item in enumerate(data_matrix):\n",
    "            self.p_xy[label[i]] +=  item                         #统计各类别各词频，\n",
    "        for k,item in self.p_xy.items():\n",
    "            item /= obj[k] + self.alpha\n",
    "          \n",
    "\n",
    "        \n",
    "    def predict(self, input_word):\n",
    "        word_vec = self.__word2Vec(input_word, len(self.word_list))\n",
    "        res_dict = {}\n",
    "        for k,v in self.p_xy.items():\n",
    "            p_XiYk = self.p_xy[k] * word_vec\n",
    "            p_XiYk = p_XiYk[p_XiYk!=0].prod(axis=0)\n",
    "            res_dict[k] = self.p_yk[k] * p_XiYk\n",
    "        return max(res_dict,key=res_dict.get)\n",
    "        \n",
    "    \n",
    "    def __word2Vec(self, input_word, wordList_len):\n",
    "        return_vec = [0]*wordList_len\n",
    "        for word in input_word:\n",
    "            if word in self.word_list:\n",
    "                return_vec[self.word_list.index(word)] = 1\n",
    "        return return_vec\n"
   ]
  },
  {
   "cell_type": "code",
   "execution_count": 3,
   "metadata": {},
   "outputs": [
    {
     "name": "stdout",
     "output_type": "stream",
     "text": [
      "['love', 'my', 'dalmation'] classified as: 0(positive)\n",
      "['he', 'is', 'stupid', 'garbage'] classified as: 1(negtive)\n"
     ]
    }
   ],
   "source": [
    "data = [['my', 'dog', 'has', 'flea', 'problems', 'help', 'please'],\n",
    "        ['maybe', 'not', 'take', 'him', 'to', 'dog', 'park', 'stupid'],\n",
    "        ['my', 'dalmation', 'is', 'so', 'cute', 'I', 'love', 'him'],\n",
    "        ['stop', 'posting', 'stupid', 'worthless', 'garbage'],\n",
    "        ['mr', 'licks', 'ate', 'my', 'steak', 'how', 'to', 'stop', 'him'],\n",
    "        ['quit', 'buying', 'worthless', 'dog', 'food', 'stupid'],\n",
    "        ['shit','fuck']]\n",
    "label = [0, 1, 0, 1, 0, 1, 1]  #1代表脏话\n",
    "# 这里省略停用词过滤等数据预处理过程\n",
    "\n",
    "test_positiveData = ['love', 'my', 'dalmation'] # 测试数据\n",
    "test_negtiveData = ['he', 'is', 'stupid','garbage']\n",
    "\n",
    "nb = NaiveBayes()\n",
    "nb.fit(data,label)\n",
    "\n",
    "res0 = '0(positive)' if nb.predict(test_positiveData) == 0 else '1(negtive)'\n",
    "res1 = '0(positive)' if nb.predict(test_negtiveData) == 0 else '1(negtive)'\n",
    "\n",
    "print(test_positiveData,'classified as:',res0,)\n",
    "print(test_negtiveData,'classified as:',res1)"
   ]
  },
  {
   "cell_type": "code",
   "execution_count": null,
   "metadata": {},
   "outputs": [],
   "source": []
  }
 ],
 "metadata": {
  "kernelspec": {
   "display_name": "Python 3",
   "language": "python",
   "name": "python3"
  },
  "language_info": {
   "codemirror_mode": {
    "name": "ipython",
    "version": 3
   },
   "file_extension": ".py",
   "mimetype": "text/x-python",
   "name": "python",
   "nbconvert_exporter": "python",
   "pygments_lexer": "ipython3",
   "version": "3.7.1"
  }
 },
 "nbformat": 4,
 "nbformat_minor": 2
}
