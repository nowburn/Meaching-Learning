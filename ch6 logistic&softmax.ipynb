{
 "cells": [
  {
   "cell_type": "code",
   "execution_count": 1,
   "metadata": {},
   "outputs": [],
   "source": [
    "import numpy as np\n",
    "import matplotlib.pyplot as plt"
   ]
  },
  {
   "cell_type": "markdown",
   "metadata": {},
   "source": [
    "## 一、逻辑回归"
   ]
  },
  {
   "cell_type": "code",
   "execution_count": 2,
   "metadata": {},
   "outputs": [],
   "source": [
    "class LR:\n",
    "    def __init__(self, alpha = 0.01, iteration = 1000):\n",
    "        self.alpha = alpha\n",
    "        self.iteration = iteration\n",
    "        self.w = None\n",
    "        \n",
    "    def fit(self, X_data, y_data):\n",
    "        self.__gradAscent(X_data, y_data)\n",
    "        \n",
    "    def score(self, X_test, y_test):\n",
    "        res_score = 0\n",
    "        for x, y in zip(X_test, y_test):\n",
    "            x = np.append(x, 1)\n",
    "            pt = self.__sign(self.w @ x.T)\n",
    "            res = 1 if pt > 1-pt else 0\n",
    "            if res == y:\n",
    "                res_score += 1\n",
    "\n",
    "        print('right rate: %.3f' % (res_score / y_test.shape[0]))\n",
    "\n",
    "    # \n",
    "    def __gradAscent(self, X_data, y_data):# 损失函数采用对数损失函数，其数学形式与似然函数一致\n",
    "        b = np.ones((X_data.shape[0], 1))   \n",
    "        X = np.hstack((X_data, b))\n",
    "        w = np.ones(X.shape[1])\n",
    "           \n",
    "        i = 0\n",
    "        while i <= self.iteration:\n",
    "            err = y_data - self.__sign(w @ X.T)\n",
    "            w += self.alpha * err @ X\n",
    "            i += 1\n",
    "        self.w = w\n",
    "            \n",
    "        \n",
    "        \n",
    "    def __sign(self, z):\n",
    "        return 1.0 / (1 + np.exp(-z))"
   ]
  },
  {
   "cell_type": "code",
   "execution_count": 3,
   "metadata": {},
   "outputs": [
    {
     "name": "stdout",
     "output_type": "stream",
     "text": [
      "right rate: 1.000\n"
     ]
    }
   ],
   "source": [
    "from sklearn.datasets import load_digits\n",
    "from sklearn.model_selection import train_test_split\n",
    "\n",
    "digits = load_digits(n_class=2)\n",
    "X_data = digits['data']\n",
    "y_data = digits['target']\n",
    "\n",
    "\n",
    "X_train, X_test, y_train, y_test = train_test_split(X_data, y_data, test_size=0.3, random_state=42)\n",
    "lr = LR()\n",
    "lr.fit(X_train, y_train)\n",
    "lr.score(X_test, y_test)"
   ]
  },
  {
   "cell_type": "markdown",
   "metadata": {},
   "source": [
    "## 二、SoftMax多分类"
   ]
  },
  {
   "cell_type": "code",
   "execution_count": 10,
   "metadata": {},
   "outputs": [],
   "source": [
    "class SoftMax:\n",
    "    def __init__(self, alpha=0.1, lenda=1e-4, iteration=1000):\n",
    "        self.alpha = alpha\n",
    "        self.lenda = lenda\n",
    "        self.iteration = iteration\n",
    "        \n",
    "        self.w = None\n",
    "        self.K = None  #类的数量\n",
    "        self.D = None  #数据的维度\n",
    "        self.N = None  #数据总量\n",
    "        \n",
    "    def fit(self, X_data, y_data):\n",
    "        X_data = self.__init_param(X_data, y_data)\n",
    "        self.__gradDecent(X_data, y_data)\n",
    "        \n",
    "        \n",
    "    def score(self, X_test, y_test):\n",
    "        res_scroe = 0\n",
    "        y_predict = self.__predict(X_test)\n",
    "       \n",
    "        for y, y_pred in zip(y_test, y_predict):\n",
    "            res_scroe += 1 if y == y_pred else 0\n",
    "        \n",
    "        print('right rate: %.3f' % (res_scroe / y_test.shape[0]))\n",
    "\n",
    "    \n",
    "    def __predict(self, X):\n",
    "        b = np.ones((X.shape[0], 1))\n",
    "        X = np.hstack((X, b))  # 附加偏置项\n",
    "        prob = np.exp(X @ self.w.T)\n",
    "        return np.argmax(prob, axis=1)\n",
    "    \n",
    "        \n",
    "    def __init_param(self, X_data, y_data):\n",
    "        # 初始化，暂定输入数据全部为数值形式\n",
    "        b = np.ones((X_data.shape[0], 1))\n",
    "        X_data = np.hstack((X_data, b))  # 附加偏置项\n",
    "        self.K = len(np.unique(y_data))\n",
    "        self.D = X_data.shape[1]\n",
    "        self.N = X_data.shape[0]\n",
    "        self.w = np.ones((self.K, self.D))  # k*d, 针对每个类，都有一组权值参数w\n",
    "        return X_data\n",
    "    \n",
    "     # 梯度下降训练\n",
    "    def __gradDecent(self, X_data, y_data):\n",
    "        step = 0\n",
    "        while step < self.iteration:\n",
    "            step += 1\n",
    "            prob = np.exp(X_data @ self.w.T)  # n*k, 行向量存储该样本属于每个类的概率\n",
    "            nf = np.transpose([prob.sum(axis=1)])  # n*1\n",
    "            nf = np.repeat(nf, self.K, axis=1)  # n*k\n",
    "            prob = -prob / nf  # 归一化， 此处条件符号仅方便后续计算梯度\n",
    "            for i in range(self.N):\n",
    "                prob[i, int(y_data[i])] += 1\n",
    "            grad = -1.0 / self.N * prob.T @ X_data + self.lenda * self.w  # 梯度， 第二项为衰减项\n",
    "            self.w -= self.alpha * grad"
   ]
  },
  {
   "cell_type": "code",
   "execution_count": 11,
   "metadata": {},
   "outputs": [
    {
     "name": "stdout",
     "output_type": "stream",
     "text": [
      "right rate: 0.965\n"
     ]
    }
   ],
   "source": [
    "digits = load_digits()\n",
    "X_data = digits['data']\n",
    "y_data = digits['target']\n",
    "\n",
    "X_train, X_test, y_train, y_test = train_test_split(X_data, y_data, test_size=0.3, random_state=42)\n",
    "clf = SoftMax()\n",
    "clf.fit(X_train, y_train)\n",
    "clf.score(X_test, y_test)"
   ]
  },
  {
   "cell_type": "code",
   "execution_count": null,
   "metadata": {},
   "outputs": [],
   "source": []
  }
 ],
 "metadata": {
  "kernelspec": {
   "display_name": "Python 3",
   "language": "python",
   "name": "python3"
  },
  "language_info": {
   "codemirror_mode": {
    "name": "ipython",
    "version": 3
   },
   "file_extension": ".py",
   "mimetype": "text/x-python",
   "name": "python",
   "nbconvert_exporter": "python",
   "pygments_lexer": "ipython3",
   "version": "3.7.1"
  }
 },
 "nbformat": 4,
 "nbformat_minor": 2
}
