{
 "cells": [
  {
   "cell_type": "code",
   "execution_count": 1,
   "metadata": {},
   "outputs": [],
   "source": [
    "import numpy as np"
   ]
  },
  {
   "cell_type": "markdown",
   "metadata": {},
   "source": [
    "## KD-Tree 最近邻"
   ]
  },
  {
   "cell_type": "code",
   "execution_count": 2,
   "metadata": {},
   "outputs": [],
   "source": [
    "class Node:\n",
    "    def __init__(self, data, parent, dim):\n",
    "        self.data = data\n",
    "        self.parent = parent\n",
    "        self.lChild = None\n",
    "        self.rChild = None\n",
    "        self.dim = dim\n",
    "        # only track search_Up process\n",
    "        self.up_traced = False\n",
    "\n",
    "    def setLChild(self, lChild):\n",
    "        self.lChild = lChild\n",
    "\n",
    "    def setRChild(self, rChild):\n",
    "        self.rChild = rChild"
   ]
  },
  {
   "cell_type": "code",
   "execution_count": 3,
   "metadata": {},
   "outputs": [],
   "source": [
    "class KdTree:\n",
    "    def __init__(self, train):\n",
    "        self.root = self.__build(train, 1, None)\n",
    "\n",
    "    def __build(self, train, depth, parent):  # 递归建树\n",
    "        (m, k) = train.shape\n",
    "        if m == 0:\n",
    "            return None\n",
    "\n",
    "        train = train[train[:, depth % k].argsort()]\n",
    "\n",
    "        root = Node(train[m//2], parent, depth % k)\n",
    "        root.setLChild(self.__build(train[:m//2, :], depth+1, root))\n",
    "        root.setRChild(self.__build(train[m//2+1:, :], depth+1, root))\n",
    "        return root\n",
    "\n",
    "    def findNearestPointAndDistance(self, point):  # 查找与point距离最近的k个点\n",
    "        point = np.array(point)\n",
    "        node = self.__findSmallestSubSpace(point, self.root)\n",
    "        print(\"Start node:\", node.data)\n",
    "        return self.__searchUp(point, node, node, np.linalg.norm(point - node.data))\n",
    "    \n",
    "    def printkdTree(self):\n",
    "        self.__preOrderKdTree(self.root)\n",
    "    \n",
    "    def __preOrderKdTree(self,node):\n",
    "        if(node):\n",
    "            print(node.data,node.dim)\n",
    "        if(node.lChild):\n",
    "            self.__preOrderKdTree(node.lChild)\n",
    "        if(node.rChild):\n",
    "            self.__preOrderKdTree(node.rChild)\n",
    "\n",
    "\n",
    "    def __searchUp(self, point, node, nearestPoint, nearestDistance):\n",
    "        if node.parent is None:\n",
    "            return [nearestPoint, nearestDistance]\n",
    "\n",
    "        print(\"UP:\", node.parent.data)\n",
    "        node.parent.up_traced = True\n",
    "        distance = np.linalg.norm(node.parent.data - point) #计算待求节点与其所在子空间的父节点距离\n",
    "        if distance < nearestDistance:\n",
    "            nearestDistance = distance\n",
    "            nearestPoint = node.parent\n",
    "\n",
    "        #以待求节点为圆心，当前最近距离为半径的圆，计算是否与其所在子空间父节点的另一个子空间相交\n",
    "        distance = np.abs(node.parent.data[node.parent.dim] - point[node.parent.dim])\n",
    "        if distance < nearestDistance:\n",
    "            [p, d] = self.__searchDown(point, node.parent)\n",
    "            if d < nearestDistance:\n",
    "                nearestDistance = d\n",
    "                nearestPoint = p\n",
    "\n",
    "        [p, d] = self.__searchUp(point, node.parent, nearestPoint, nearestDistance)\n",
    "        if d < nearestDistance:\n",
    "            nearestDistance = d\n",
    "            nearestPoint = p\n",
    "\n",
    "        return [nearestPoint, nearestDistance]\n",
    "\n",
    "    def __searchDown(self, point, node):\n",
    "        nearestDistance = np.linalg.norm(node.data - point)\n",
    "        nearestPoint = node\n",
    "\n",
    "        print(\"DOWN:\", node.data)\n",
    "        if node.lChild is not None and node.lChild.up_traced is False:\n",
    "            [p, d] = self.__searchDown(point, node.lChild)\n",
    "            if d < nearestDistance:\n",
    "                nearestDistance = d\n",
    "                nearestPoint = p   \n",
    "\n",
    "        if node.rChild is not None and node.rChild.up_traced is False:\n",
    "            [p, d] = self.__searchDown(point, node.rChild)\n",
    "            if d < nearestDistance:\n",
    "                nearestDistance = d\n",
    "                nearestPoint = p\n",
    "            \n",
    "        print(\"---- \", nearestPoint.data, nearestDistance)\n",
    "        return [nearestPoint, nearestDistance]\n",
    "\n",
    "    def __findSmallestSubSpace(self, point, node):  # 找到这个点所在的最小的子空间\n",
    "        \"\"\"\n",
    "        从根节点出发，递归地向下访问kd树。如果point当前维的坐标小于切分点的坐标，则\n",
    "        移动到左子节点，否则移动到右子节点。直到子节点为叶节点为止。\n",
    "        \"\"\"\n",
    "        # New search: clean up up_traced flag for all up path nodes\n",
    "        node.up_traced = False\n",
    "        if point[node.dim] < node.data[node.dim]:\n",
    "            if node.lChild is None:\n",
    "                return node\n",
    "            else:\n",
    "                return self.__findSmallestSubSpace(point, node.lChild)\n",
    "        else:\n",
    "            if node.rChild is None:\n",
    "                return node\n",
    "            else:\n",
    "                return self.__findSmallestSubSpace(point, node.rChild)\n",
    "            "
   ]
  },
  {
   "cell_type": "code",
   "execution_count": 4,
   "metadata": {},
   "outputs": [
    {
     "name": "stdout",
     "output_type": "stream",
     "text": [
      "target : [2 2]\n",
      "Start node: [1 1]\n",
      "UP: [3 2]\n",
      "UP: [2 5]\n",
      "[3 2] 1.0\n",
      "---------------------\n",
      "[2 5] 3.0\n",
      "[3 2] 1.0\n",
      "[3 7] 5.0990195135927845\n",
      "[8 3] 6.082762530298219\n",
      "[6 6] 5.656854249492381\n",
      "[1 1] 1.4142135623730951\n",
      "[1 8] 6.082762530298219\n"
     ]
    }
   ],
   "source": [
    "train = np.array([[2, 5], [3, 2], [3, 7], [8, 3], [6, 6], [1, 1], [1, 8]])\n",
    "kdTree = KdTree(train)\n",
    "target = np.array([2, 2])\n",
    "print('target :', target)\n",
    "[p, d] = kdTree.findNearestPointAndDistance(target)\n",
    "\n",
    "print(p.data, d)\n",
    "print('---------------------')\n",
    "\n",
    "(m, k) = train.shape\n",
    "for i in range(m):\n",
    "    print(train[i], np.linalg.norm(train[i]-target))\n"
   ]
  },
  {
   "cell_type": "code",
   "execution_count": 5,
   "metadata": {},
   "outputs": [
    {
     "name": "stdout",
     "output_type": "stream",
     "text": [
      "target : [6 4]\n",
      "Start node: [8 3]\n",
      "UP: [3 2]\n",
      "UP: [2 5]\n",
      "DOWN: [2 5]\n",
      "DOWN: [3 7]\n",
      "DOWN: [1 8]\n",
      "----  [1 8] 6.4031242374328485\n",
      "DOWN: [6 6]\n",
      "----  [6 6] 2.0\n",
      "----  [6 6] 2.0\n",
      "----  [6 6] 2.0\n",
      "[6 6] 2.0\n",
      "---------------------\n",
      "[2 5] 4.123105625617661\n",
      "[3 2] 3.605551275463989\n",
      "[3 7] 4.242640687119285\n",
      "[8 3] 2.23606797749979\n",
      "[6 6] 2.0\n",
      "[1 1] 5.830951894845301\n",
      "[1 8] 6.4031242374328485\n"
     ]
    }
   ],
   "source": [
    "train = np.array([[2, 5], [3, 2], [3, 7], [8, 3], [6, 6], [1, 1], [1, 8]])\n",
    "kdTree = KdTree(train)\n",
    "target = np.array([6, 4])\n",
    "print('target :', target)\n",
    "[p, d] = kdTree.findNearestPointAndDistance(target)\n",
    "\n",
    "print(p.data, d)\n",
    "print('---------------------')\n",
    "\n",
    "(m, k) = train.shape\n",
    "for i in range(m):\n",
    "    print(train[i], np.linalg.norm(train[i]-target))"
   ]
  },
  {
   "cell_type": "code",
   "execution_count": 6,
   "metadata": {},
   "outputs": [
    {
     "name": "stdout",
     "output_type": "stream",
     "text": [
      "[2 5] 1\n"
     ]
    },
    {
     "ename": "AttributeError",
     "evalue": "'KdTree' object has no attribute 'preOrderKdTree'",
     "output_type": "error",
     "traceback": [
      "\u001b[0;31m---------------------------------------------------------------------------\u001b[0m",
      "\u001b[0;31mAttributeError\u001b[0m                            Traceback (most recent call last)",
      "\u001b[0;32m<ipython-input-6-3cec62399d6f>\u001b[0m in \u001b[0;36m<module>\u001b[0;34m\u001b[0m\n\u001b[0;32m----> 1\u001b[0;31m \u001b[0mkdTree\u001b[0m\u001b[0;34m.\u001b[0m\u001b[0mprintkdTree\u001b[0m\u001b[0;34m(\u001b[0m\u001b[0;34m)\u001b[0m\u001b[0;34m\u001b[0m\u001b[0;34m\u001b[0m\u001b[0m\n\u001b[0m",
      "\u001b[0;32m<ipython-input-3-29e2495ec0f7>\u001b[0m in \u001b[0;36mprintkdTree\u001b[0;34m(self)\u001b[0m\n\u001b[1;32m     22\u001b[0m \u001b[0;34m\u001b[0m\u001b[0m\n\u001b[1;32m     23\u001b[0m     \u001b[0;32mdef\u001b[0m \u001b[0mprintkdTree\u001b[0m\u001b[0;34m(\u001b[0m\u001b[0mself\u001b[0m\u001b[0;34m)\u001b[0m\u001b[0;34m:\u001b[0m\u001b[0;34m\u001b[0m\u001b[0;34m\u001b[0m\u001b[0m\n\u001b[0;32m---> 24\u001b[0;31m         \u001b[0mself\u001b[0m\u001b[0;34m.\u001b[0m\u001b[0m__preOrderKdTree\u001b[0m\u001b[0;34m(\u001b[0m\u001b[0mself\u001b[0m\u001b[0;34m.\u001b[0m\u001b[0mroot\u001b[0m\u001b[0;34m)\u001b[0m\u001b[0;34m\u001b[0m\u001b[0;34m\u001b[0m\u001b[0m\n\u001b[0m\u001b[1;32m     25\u001b[0m \u001b[0;34m\u001b[0m\u001b[0m\n\u001b[1;32m     26\u001b[0m     \u001b[0;32mdef\u001b[0m \u001b[0m__preOrderKdTree\u001b[0m\u001b[0;34m(\u001b[0m\u001b[0mself\u001b[0m\u001b[0;34m,\u001b[0m\u001b[0mnode\u001b[0m\u001b[0;34m)\u001b[0m\u001b[0;34m:\u001b[0m\u001b[0;34m\u001b[0m\u001b[0;34m\u001b[0m\u001b[0m\n",
      "\u001b[0;32m<ipython-input-3-29e2495ec0f7>\u001b[0m in \u001b[0;36m__preOrderKdTree\u001b[0;34m(self, node)\u001b[0m\n\u001b[1;32m     28\u001b[0m             \u001b[0mprint\u001b[0m\u001b[0;34m(\u001b[0m\u001b[0mnode\u001b[0m\u001b[0;34m.\u001b[0m\u001b[0mdata\u001b[0m\u001b[0;34m,\u001b[0m\u001b[0mnode\u001b[0m\u001b[0;34m.\u001b[0m\u001b[0mdim\u001b[0m\u001b[0;34m)\u001b[0m\u001b[0;34m\u001b[0m\u001b[0;34m\u001b[0m\u001b[0m\n\u001b[1;32m     29\u001b[0m         \u001b[0;32mif\u001b[0m\u001b[0;34m(\u001b[0m\u001b[0mnode\u001b[0m\u001b[0;34m.\u001b[0m\u001b[0mlChild\u001b[0m\u001b[0;34m)\u001b[0m\u001b[0;34m:\u001b[0m\u001b[0;34m\u001b[0m\u001b[0;34m\u001b[0m\u001b[0m\n\u001b[0;32m---> 30\u001b[0;31m             \u001b[0mself\u001b[0m\u001b[0;34m.\u001b[0m\u001b[0mpreOrderKdTree\u001b[0m\u001b[0;34m(\u001b[0m\u001b[0mnode\u001b[0m\u001b[0;34m.\u001b[0m\u001b[0mlChild\u001b[0m\u001b[0;34m)\u001b[0m\u001b[0;34m\u001b[0m\u001b[0;34m\u001b[0m\u001b[0m\n\u001b[0m\u001b[1;32m     31\u001b[0m         \u001b[0;32mif\u001b[0m\u001b[0;34m(\u001b[0m\u001b[0mnode\u001b[0m\u001b[0;34m.\u001b[0m\u001b[0mrChild\u001b[0m\u001b[0;34m)\u001b[0m\u001b[0;34m:\u001b[0m\u001b[0;34m\u001b[0m\u001b[0;34m\u001b[0m\u001b[0m\n\u001b[1;32m     32\u001b[0m             \u001b[0mself\u001b[0m\u001b[0;34m.\u001b[0m\u001b[0mpreOrderKdTree\u001b[0m\u001b[0;34m(\u001b[0m\u001b[0mnode\u001b[0m\u001b[0;34m.\u001b[0m\u001b[0mrChild\u001b[0m\u001b[0;34m)\u001b[0m\u001b[0;34m\u001b[0m\u001b[0;34m\u001b[0m\u001b[0m\n",
      "\u001b[0;31mAttributeError\u001b[0m: 'KdTree' object has no attribute 'preOrderKdTree'"
     ]
    }
   ],
   "source": [
    "kdTree.printkdTree()"
   ]
  },
  {
   "cell_type": "code",
   "execution_count": null,
   "metadata": {},
   "outputs": [],
   "source": []
  }
 ],
 "metadata": {
  "kernelspec": {
   "display_name": "Python 3",
   "language": "python",
   "name": "python3"
  },
  "language_info": {
   "codemirror_mode": {
    "name": "ipython",
    "version": 3
   },
   "file_extension": ".py",
   "mimetype": "text/x-python",
   "name": "python",
   "nbconvert_exporter": "python",
   "pygments_lexer": "ipython3",
   "version": "3.7.1"
  }
 },
 "nbformat": 4,
 "nbformat_minor": 2
}
