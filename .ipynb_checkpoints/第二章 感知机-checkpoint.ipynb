{
 "cells": [
  {
   "cell_type": "code",
   "execution_count": 1,
   "metadata": {},
   "outputs": [],
   "source": [
    "import numpy as np\n",
    "import pandas as pd\n",
    "import matplotlib.pyplot as plt\n",
    "import random"
   ]
  },
  {
   "cell_type": "markdown",
   "metadata": {},
   "source": [
    "## 一、感知机\n",
    "### 原始形式(fit_origin ):随机梯度下降，迭代求出w，b\n",
    "### 对偶形式(fit_dual):将w和b表示为实例$x_{i}$和标记$y_{i}$的线性组合形式，通过求解其系数，而求得w,b"
   ]
  },
  {
   "cell_type": "code",
   "execution_count": 2,
   "metadata": {},
   "outputs": [],
   "source": [
    "class Perceptron(object):\n",
    "    def __init__(self,w=np.zeros([1,2]),b=0,lr=1):\n",
    "        self.w = w\n",
    "        self.b = b\n",
    "        self.lr = lr\n",
    "        self.X = None\n",
    "        \n",
    "#     原始形式\n",
    "    def fit_origin(self, X):\n",
    "        self.X = X\n",
    "        fitted = False\n",
    "        while(fitted == False):\n",
    "            fitted = True\n",
    "            for i in range(len(X)):\n",
    "                x = np.array([X[i]])\n",
    "                if(x[:,-1]*(np.dot(self.w,x[:,:-1].T)+self.b) <= 0):\n",
    "                    self.w += self.lr * x[:,-1] * x[:,:-1]\n",
    "                    self.b += self.lr * x[:,-1]\n",
    "                    fitted = False\n",
    "        return self.w,self.b  \n",
    "    \n",
    "#    对偶形式\n",
    "#     def fit_dual(self, X):\n",
    "#         self.X = X\n",
    "#         n = len(X)\n",
    "#         alpha = [0 for i in range(n)]\n",
    "#         gram = np.dot(X[:,0:-1] , X[:,0:-1].T)\n",
    "#         fitted = False\n",
    "#         while(fitted == False):\n",
    "#             fitted = True\n",
    "#             for i in range(n):\n",
    "#                 item = 0\n",
    "#                 yi = X[i,-1]\n",
    "#                 for j in range(n):\n",
    "#                     item += alpha[j] * X[j,-1] * gram[j,i]\n",
    "#                 if((item+self.b)*yi <= 0):\n",
    "#                     alpha[i] +=  self.lr\n",
    "#                     self.b += self.lr * yi\n",
    "#                     fitted = False  \n",
    "#         for i in range(n):\n",
    "#             self.w += alpha[i] * X[i,-1] * X[i,:-1]\n",
    "            \n",
    "#         return self.w,self.b\n",
    "    \n",
    "                \n",
    "    def plot(self):\n",
    "        X = self.X\n",
    "        w = self.w\n",
    "        b = self.b\n",
    "        \n",
    "        plt.figure()\n",
    "        x1 = np.linspace(0, 8, 100) \n",
    "        x2 = (-b - w[0][0]*x1)/w[0][1]\n",
    "        plt.plot(x1, x2, color='r')\n",
    "        for i in range(len(X)):\n",
    "            if(X[i][-1] == 1):\n",
    "                plt.scatter(X[i][0],X[i][1],s=30,c='b',marker='o')\n",
    "            else:\n",
    "                plt.scatter(X[i][0],X[i][1],s=30,c='r',marker='x')\n",
    "        plt.show()"
   ]
  },
  {
   "cell_type": "code",
   "execution_count": 3,
   "metadata": {},
   "outputs": [],
   "source": [
    "X = np.array([[3,3,1],[4,3,1],[1,1,-1]])"
   ]
  },
  {
   "cell_type": "code",
   "execution_count": 4,
   "metadata": {},
   "outputs": [
    {
     "name": "stdout",
     "output_type": "stream",
     "text": [
      "[[1. 1.]] [-3]\n"
     ]
    },
    {
     "data": {
      "image/png": "[encoded data removed]",
      "text/plain": [
       "<Figure size 432x288 with 1 Axes>"
      ]
     },
     "metadata": {
      "needs_background": "light"
     },
     "output_type": "display_data"
    }
   ],
   "source": [
    "perceptron = Perceptron()\n",
    "w,b = perceptron.fit_origin(X)\n",
    "print(w,b)\n",
    "perceptron.plot()"
   ]
  }
 ],
 "metadata": {
  "kernelspec": {
   "display_name": "Python 3",
   "language": "python",
   "name": "python3"
  },
  "language_info": {
   "codemirror_mode": {
    "name": "ipython",
    "version": 3
   },
   "file_extension": ".py",
   "mimetype": "text/x-python",
   "name": "python",
   "nbconvert_exporter": "python",
   "pygments_lexer": "ipython3",
   "version": "3.7.1"
  }
 },
 "nbformat": 4,
 "nbformat_minor": 2
}
