{
 "cells": [
  {
   "cell_type": "code",
   "execution_count": 1,
   "metadata": {},
   "outputs": [],
   "source": [
    "from collections import Counter, defaultdict\n",
    "import matplotlib.pyplot as plt\n",
    "import numpy as np"
   ]
  },
  {
   "cell_type": "markdown",
   "metadata": {},
   "source": [
    "## CART算法（classification and regression tree）\n",
    "## 定义节点"
   ]
  },
  {
   "cell_type": "code",
   "execution_count": 2,
   "metadata": {},
   "outputs": [],
   "source": [
    "class node:\n",
    "    def __init__(self, fea=-1, val=None, res=None, right=None, left=None):\n",
    "        self.fea = fea  # 特征\n",
    "        self.val = val  # 特征对应的值\n",
    "        self.res = res  # 叶节点标记\n",
    "        self.left = left\n",
    "        self.right = right"
   ]
  },
  {
   "cell_type": "markdown",
   "metadata": {},
   "source": [
    "\n",
    "## 一、回归树(最小二乘回归树)"
   ]
  },
  {
   "cell_type": "code",
   "execution_count": 3,
   "metadata": {},
   "outputs": [],
   "source": [
    "class CART_REG:\n",
    "    def __init__(self, epsilon=0.1, min_sample=10):\n",
    "        self.epsilon = epsilon\n",
    "        self.min_sample = min_sample\n",
    "        self.tree = None\n",
    "\n",
    "    def fit(self, X_data, y_data):\n",
    "        self.tree = self.__buildTree(X_data, y_data)\n",
    "        \n",
    "        \n",
    "    def predict(self, x):\n",
    "        # 对输入变量进行预测\n",
    "        def helper(x, tree):\n",
    "            if tree.res is not None:\n",
    "                return tree.res\n",
    "            else:\n",
    "                if x[tree.fea] <= tree.val:\n",
    "                    branch = tree.left\n",
    "                else:\n",
    "                    branch = tree.right\n",
    "                return helper(x, branch)\n",
    " \n",
    "        return helper(x, self.tree)\n",
    "\n",
    "        \n",
    "    def __buildTree(self, X_data, y_data):\n",
    "         # 递归构建二叉树\n",
    "        if y_data.shape[0] < self.min_sample:\n",
    "            return node(res=self.leaf(y_data))\n",
    "        best_err, best_split, subsets_inds = self.__getBestSplit(X_data, y_data)\n",
    "        if subsets_inds is None:\n",
    "            return node(res=self.__leaf(y_data))\n",
    "        if best_err < self.epsilon:\n",
    "            return node(res=self.__leaf(y_data))\n",
    "        else:\n",
    "            left = self.__buildTree(X_data[subsets_inds[0]], y_data[subsets_inds[0]])\n",
    "            right = self.__buildTree(X_data[subsets_inds[1]], y_data[subsets_inds[1]])\n",
    "            return node(fea=best_split[0], val=best_split[1], right=right, left=left)\n",
    "        \n",
    "    def __getBestSplit(self, X_data, y_data):\n",
    "        # 求最优切分点\n",
    "        best_err = self.__err(y_data)\n",
    "        best_split = None\n",
    "        subsets_inds = None\n",
    "        for fea in range(X_data.shape[1]):\n",
    "            for val in X_data[:, fea]:\n",
    "                set1_inds, set2_inds = self.__split(fea, val, X_data)\n",
    "                if len(set1_inds) < 2 or len(set2_inds) < 2:  # 若切分后某个子集大小不足2，则不切分\n",
    "                    continue\n",
    "                now_err = self.__err(y_data[set1_inds]) + self.__err(y_data[set2_inds])\n",
    "                if now_err < best_err:\n",
    "                    best_err = now_err\n",
    "                    best_split = (fea, val)\n",
    "                    subsets_inds = (set1_inds, set2_inds)\n",
    "        return best_err, best_split, subsets_inds\n",
    "\n",
    "        \n",
    "     \n",
    "    def __split(self, fea, val, X_data):\n",
    "        # 根据某个特征，以及特征下的某个取值，将数据集进行切分\n",
    "        set1_inds = np.where(X_data[:, fea] <= val)[0]\n",
    "        set2_inds = list(set(range(X_data.shape[0]))-set(set1_inds))\n",
    "        return set1_inds, set2_inds\n",
    "    \n",
    "    def __err(self, y_data):\n",
    "        # 求方差\n",
    "        return y_data.var() * y_data.shape[0]\n",
    "\n",
    "        \n",
    "    def __leaf(self, y_data):\n",
    "        # 叶节点取值，为子数据集输出y的均值\n",
    "        return y_data.mean()\n"
   ]
  },
  {
   "cell_type": "code",
   "execution_count": 4,
   "metadata": {},
   "outputs": [
    {
     "data": {
      "image/png": "[encoded data removed]",
      "text/plain": [
       "<Figure size 576x360 with 1 Axes>"
      ]
     },
     "metadata": {
      "needs_background": "light"
     },
     "output_type": "display_data"
    }
   ],
   "source": [
    "X_data_raw = np.linspace(-3, 3, 50)\n",
    "np.random.shuffle(X_data_raw)\n",
    "y_data = np.sin(X_data_raw)\n",
    "X_data = np.transpose([X_data_raw])\n",
    "y_data = y_data + 0.1 * np.random.randn(y_data.shape[0])\n",
    "cr = CART_REG(epsilon=1e-4, min_sample=1)\n",
    "cr.fit(X_data, y_data)\n",
    "res = []\n",
    "for i in range(X_data.shape[0]):\n",
    "    res.append(cr.predict(X_data[i]))\n",
    "plt.figure(figsize=(8,5))\n",
    "p1 = plt.scatter(X_data_raw, y_data)\n",
    "p2 = plt.scatter(X_data_raw, res, marker='*')\n",
    "plt.legend([p1,p2],['real','pred'],loc='upper left')\n",
    "plt.show()\n"
   ]
  },
  {
   "cell_type": "markdown",
   "metadata": {},
   "source": [
    "## 二、分类树（基尼指数）"
   ]
  },
  {
   "cell_type": "code",
   "execution_count": 5,
   "metadata": {},
   "outputs": [],
   "source": [
    "class CART_CLF:\n",
    "    def __init__(self, epsilon=1e-3, min_sample=1):\n",
    "        self.epsilon = epsilon\n",
    "        self.min_sample = min_sample  # 叶节点含有的最少样本数\n",
    "        self.tree = None\n",
    "        \n",
    "    def fit(self, X_data, y_data):\n",
    "        # 训练模型，CART分类树与ID3最大的不同是，CART建立的是二叉树，每个节点是特征及其对应的某个值组成的元组\n",
    "        # 特征可以多次使用\n",
    "        splits_set = []\n",
    "        for fea in range(X_data.shape[1]):\n",
    "            unique_vals = np.unique(X_data[:, fea])\n",
    "            if unique_vals.shape[0] < 2:\n",
    "                continue\n",
    "            elif unique_vals.shape[0] == 2:  # 若特征取值只有2个，则只有一个切分点，非此即彼\n",
    "                splits_set.append((fea, unique_vals[0]))\n",
    "            else:\n",
    "                for val in unique_vals:\n",
    "                    splits_set.append((fea, val))\n",
    "        self.tree = self.__buildTree(splits_set, X_data, y_data)\n",
    "\n",
    "    \n",
    "    def score(self, X_test, y_test):\n",
    "        res_score = 0\n",
    "        for x, y in zip(X_test, y_test):\n",
    "            if self.__score(x, self.tree) == y:\n",
    "                res_score += 1\n",
    "      \n",
    "        print('right rate: %.3f' % (res_score / y_test.shape[0]))\n",
    "         \n",
    "            \n",
    "    def __score(self, x, node):\n",
    "        if node.res is not None:\n",
    "            return node.res\n",
    "        else:\n",
    "            if x[node.fea] == node.val:\n",
    "                branch = node.left   #'是' 返回左孩子\n",
    "            else:\n",
    "                branch = node.right\n",
    "            return self.__score(x, branch) \n",
    "       \n",
    "              \n",
    "    \n",
    "    def __buildTree(self, splits_set, X_data, y_data):\n",
    "        if y_data.shape[0] < self.min_sample:  # 数据集小于阈值直接设为叶节点\n",
    "            return node(res=Counter(y_data).most_common(1)[0][0])\n",
    "        best_split, best_set, min_gini = self.__bestSplit(splits_set, X_data, y_data)\n",
    "        if best_split is None:  # 基尼指数下降小于阈值，则终止切分，设为叶节点\n",
    "            return node(res=Counter(y_data).most_common(1)[0][0])\n",
    "        else:\n",
    "            splits_set.remove(best_split)\n",
    "            left = self.__buildTree(splits_set, X_data[best_set[0]], y_data[best_set[0]])\n",
    "            right = self.__buildTree(splits_set, X_data[best_set[1]], y_data[best_set[1]])\n",
    "            return node(fea=best_split[0], val=best_split[1], right=right, left=left)\n",
    "\n",
    "    \n",
    "    def __bestSplit(self, splits_set, X_data, y_data):\n",
    "        # 返回所有切分点的基尼指数，以字典形式存储。键为split，是一个元组，第一个元素为最优切分特征，第二个为该特征对应的最优切分值\n",
    "        pre_gini = self.__getGini(y_data)\n",
    "        subdata_inds = defaultdict(list)  # 切分点以及相应的样本点的索引\n",
    "        for split in splits_set:\n",
    "            for ind, sample in enumerate(X_data):\n",
    "                if sample[split[0]] == split[1]:\n",
    "                    subdata_inds[split].append(ind)\n",
    "        min_gini = 1000\n",
    "        best_split = None\n",
    "        best_set = None\n",
    "        for split, data_ind in subdata_inds.items():\n",
    "            set1 = y_data[data_ind]  # 满足切分点的条件，则为左子树\n",
    "            set2_inds = list(set(range(y_data.shape[0])) - set(data_ind))\n",
    "            set2 = y_data[set2_inds]\n",
    "            if set1.shape[0] < 1 or set2.shape[0] < 1:\n",
    "                continue\n",
    "            now_gini = self.__getFeaGini(set1, set2)\n",
    "            if now_gini < min_gini:\n",
    "                min_gini = now_gini\n",
    "                best_split = split\n",
    "                best_set = (data_ind, set2_inds)\n",
    "        if abs(pre_gini - min_gini) < self.epsilon:  # 若切分后基尼指数下降未超过阈值则停止切分\n",
    "            best_split = None\n",
    "        return best_split, best_set, min_gini\n",
    "\n",
    "    \n",
    "    \n",
    "    def __getGini(self, y_data):\n",
    "        # 计算基尼指数\n",
    "        c = Counter(y_data)\n",
    "        return 1 - sum([(val / y_data.shape[0]) ** 2 for val in c.values()])\n",
    " \n",
    "    def __getFeaGini(self, set1, set2):\n",
    "        # 计算某个特征及相应的某个特征值组成的切分节点的基尼指数\n",
    "        num = set1.shape[0] + set2.shape[0]\n",
    "        return set1.shape[0] / num * self.__getGini(set1) + set2.shape[0] / num * self.__getGini(set2)\n"
   ]
  },
  {
   "cell_type": "code",
   "execution_count": 6,
   "metadata": {},
   "outputs": [
    {
     "name": "stdout",
     "output_type": "stream",
     "text": [
      "right rate: 0.956\n"
     ]
    }
   ],
   "source": [
    "from sklearn.datasets import load_iris\n",
    "from sklearn.model_selection import train_test_split\n",
    "X = load_iris().data\n",
    "y = load_iris().target\n",
    "\n",
    "X_train, X_test, y_train, y_test = train_test_split(X, y, test_size=0.3, random_state=42)\n",
    "\n",
    "clf = CART_CLF()\n",
    "clf.fit(X_train, y_train)\n",
    "\n",
    "clf.score(X_test, y_test)"
   ]
  },
  {
   "cell_type": "code",
   "execution_count": null,
   "metadata": {},
   "outputs": [],
   "source": []
  }
 ],
 "metadata": {
  "kernelspec": {
   "display_name": "Python 3",
   "language": "python",
   "name": "python3"
  },
  "language_info": {
   "codemirror_mode": {
    "name": "ipython",
    "version": 3
   },
   "file_extension": ".py",
   "mimetype": "text/x-python",
   "name": "python",
   "nbconvert_exporter": "python",
   "pygments_lexer": "ipython3",
   "version": "3.7.1"
  }
 },
 "nbformat": 4,
 "nbformat_minor": 2
}
